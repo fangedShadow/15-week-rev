{
 "cells": [
  {
   "cell_type": "code",
   "execution_count": 1,
   "id": "ea1078ed",
   "metadata": {},
   "outputs": [
    {
     "name": "stdout",
     "output_type": "stream",
     "text": [
      "[12, -43, 12]\n"
     ]
    }
   ],
   "source": [
    "#intergers in bracket\n",
    "import re\n",
    "\n",
    "def integers_in_brackets(s):\n",
    "    pattern = re.compile(r'\\[\\s*([+-]?\\d+)\\s*\\]')\n",
    "    \n",
    "    matches = pattern.findall(s)\n",
    "    \n",
    "    return [int(match) for match in matches]\n",
    "\n",
    "print(integers_in_brackets(\" afd [asd] [12 ] [a34] [ -43 ]tt [+12]xxx\"))"
   ]
  },
  {
   "cell_type": "code",
   "execution_count": 3,
   "id": "f1ea14ce",
   "metadata": {},
   "outputs": [],
   "source": [
    "# File Listing\n",
    "def file_listing(filename=\"src/listing.txt\"):\n",
    "    pattern = re.compile(r'\\s*(\\d+)\\s+(\\w+)\\s+(\\d+)\\s+(\\d+):(\\d+)\\s+(.+)')\n",
    "\n",
    "    results = []\n",
    "\n",
    "    with open(filename, 'r') as file:\n",
    "        for line in file:\n",
    "            match = pattern.search(line)\n",
    "            if match:\n",
    "                size = int(match.group(1))\n",
    "                month = match.group(2)\n",
    "                day = int(match.group(3))\n",
    "                hour = int(match.group(4))\n",
    "                minute = int(match.group(5))\n",
    "                filename = match.group(6)\n",
    "                \n",
    "                results.append((size, month, day, hour, minute, filename))\n",
    "    \n",
    "    return results"
   ]
  },
  {
   "cell_type": "code",
   "execution_count": 5,
   "id": "194c51f3",
   "metadata": {
    "scrolled": true
   },
   "outputs": [],
   "source": [
    "# red green blue \n",
    "def red_green_blue():\n",
    "    filepath = 'src/rgb.txt'\n",
    "    \n",
    "    cleaned_lines = []\n",
    "\n",
    "    pattern = re.compile(r'\\s*(\\d+)\\s+(\\d+)\\s+(\\d+)\\s+(.+?)\\s*$')\n",
    "\n",
    "    with open(filepath, 'r') as file:\n",
    "        next(file)\n",
    "        \n",
    "        for line in file:\n",
    "            match = pattern.match(line)\n",
    "            if match:\n",
    "                red, green, blue, colorname = match.groups()\n",
    "                cleaned_line = f\"{red}\\t{green}\\t{blue}\\t{colorname}\"\n",
    "                cleaned_lines.append(cleaned_line)\n",
    "\n",
    "    return cleaned_lines\n",
    "\n",
    "#cleaned_list = red_green_blue()\n",
    "#for line in cleaned_list[:5]:  \n",
    "#    print(line)"
   ]
  },
  {
   "cell_type": "code",
   "execution_count": 6,
   "id": "5e41e0da",
   "metadata": {},
   "outputs": [],
   "source": [
    "# word frequencies\n",
    "def word_frequencies(filename):\n",
    "    word_count = {}\n",
    "\n",
    "    strip_chars = \"\"\"!\"#$%&'()*,-./:;?@[]_\"\"\"\n",
    "\n",
    "    with open(filename, 'r') as file:\n",
    "        for line in file:\n",
    "            words = line.split()\n",
    "            for word in words:\n",
    "                cleaned_word = word.strip(strip_chars)\n",
    "                cleaned_word = cleaned_word.lower()\n",
    "                if cleaned_word:\n",
    "                    if cleaned_word in word_count:\n",
    "                        word_count[cleaned_word] += 1\n",
    "                    else:\n",
    "                        word_count[cleaned_word] = 1\n",
    "\n",
    "    return word_count\n",
    "\n",
    "#frequencies = word_frequencies('src/yourfile.txt')\n",
    "#for word, count in frequencies.items():\n",
    "#    print(f\"{word}\\t{count}\")"
   ]
  },
  {
   "cell_type": "code",
   "execution_count": 13,
   "id": "3d927903",
   "metadata": {},
   "outputs": [
    {
     "name": "stdout",
     "output_type": "stream",
     "text": [
      "+++ Hello\n"
     ]
    }
   ],
   "source": [
    "#Prepend Class\n",
    "class Prepend:\n",
    "    def __init__(self, start):\n",
    "        self.start = start\n",
    "\n",
    "    def write(self, s):\n",
    "        print(self.start + s)\n",
    "\n",
    "# Example usage\n",
    "p = Prepend(\"+++ \")\n",
    "p.write(\"Hello\")"
   ]
  },
  {
   "cell_type": "code",
   "execution_count": 14,
   "id": "49323522",
   "metadata": {},
   "outputs": [
    {
     "name": "stdout",
     "output_type": "stream",
     "text": [
      "Mr. Smith\n"
     ]
    }
   ],
   "source": [
    "s = Prepend(\"Mr.\")\n",
    "s.write(\" Smith\")"
   ]
  },
  {
   "cell_type": "code",
   "execution_count": 17,
   "id": "95e72d26",
   "metadata": {},
   "outputs": [
    {
     "name": "stdout",
     "output_type": "stream",
     "text": [
      "1/4\n",
      "1/2\n",
      "3/4\n",
      "-1/4\n",
      "1/8\n",
      "1/2\n",
      "False\n",
      "True\n",
      "False\n"
     ]
    }
   ],
   "source": [
    "# rational class \n",
    "from math import gcd\n",
    "\n",
    "class Rational:\n",
    "    def __init__(self, numerator, denominator):\n",
    "        if denominator == 0:\n",
    "            raise ValueError(\"Denominator cannot be zero\")\n",
    "        self.numerator = numerator\n",
    "        self.denominator = denominator\n",
    "        self._normalize()\n",
    "\n",
    "    def _normalize(self):\n",
    "        common_divisor = gcd(self.numerator, self.denominator)\n",
    "        self.numerator //= common_divisor\n",
    "        self.denominator //= common_divisor\n",
    "        if self.denominator < 0:\n",
    "            self.numerator = -self.numerator\n",
    "            self.denominator = -self.denominator\n",
    "\n",
    "    def __str__(self):\n",
    "        return f\"{self.numerator}/{self.denominator}\"\n",
    "\n",
    "    def __add__(self, other):\n",
    "        numerator = self.numerator * other.denominator + other.numerator * self.denominator\n",
    "        denominator = self.denominator * other.denominator\n",
    "        return Rational(numerator, denominator)\n",
    "\n",
    "    def __sub__(self, other):\n",
    "        numerator = self.numerator * other.denominator - other.numerator * self.denominator\n",
    "        denominator = self.denominator * other.denominator\n",
    "        return Rational(numerator, denominator)\n",
    "\n",
    "    def __mul__(self, other):\n",
    "        numerator = self.numerator * other.numerator\n",
    "        denominator = self.denominator * other.denominator\n",
    "        return Rational(numerator, denominator)\n",
    "\n",
    "    def __truediv__(self, other):\n",
    "        if other.numerator == 0:\n",
    "            raise ZeroDivisionError(\"Cannot divide by zero\")\n",
    "        numerator = self.numerator * other.denominator\n",
    "        denominator = self.denominator * other.numerator\n",
    "        return Rational(numerator, denominator)\n",
    "\n",
    "    def __eq__(self, other):\n",
    "        return (self.numerator == other.numerator) and (self.denominator == other.denominator)\n",
    "\n",
    "    def __lt__(self, other):\n",
    "        return self.numerator * other.denominator < other.numerator * self.denominator\n",
    "\n",
    "    def __le__(self, other):\n",
    "        return self.numerator * other.denominator <= other.numerator * self.denominator\n",
    "\n",
    "    def __gt__(self, other):\n",
    "        return self.numerator * other.denominator > other.numerator * self.denominator\n",
    "\n",
    "    def __ge__(self, other):\n",
    "        return self.numerator * other.denominator >= other.numerator * self.denominator\n",
    "\n",
    "r1 = Rational(1, 4)\n",
    "r2 = Rational(1, 2)\n",
    "\n",
    "print(r1)  # Expected Output: 1/4\n",
    "print(r2)  # Expected Output: 1/2\n",
    "\n",
    "print(r1 + r2)  # Expected Output: 3/4\n",
    "print(r1 - r2)  # Expected Output: -1/4\n",
    "print(r1 * r2)  # Expected Output: 1/8\n",
    "print(r1 / r2)  # Expected Output: 1/2\n",
    "\n",
    "print(r1 == r2)  # Expected Output: False\n",
    "print(r1 < r2)   # Expected Output: True\n",
    "print(r1 > r2)   # Expected Output: False"
   ]
  },
  {
   "cell_type": "code",
   "execution_count": 19,
   "id": "93c2bb5a",
   "metadata": {},
   "outputs": [
    {
     "name": "stdout",
     "output_type": "stream",
     "text": [
      "[123, 1.2, 13.2, -1]\n"
     ]
    }
   ],
   "source": [
    "#error excpetion handling\n",
    "def extract_numbers(s):\n",
    "    words = s.split()\n",
    "    numbers = []\n",
    "    \n",
    "    for word in words:\n",
    "        try:\n",
    "            number = int(word)\n",
    "        except ValueError:\n",
    "            try:\n",
    "                number = float(word)\n",
    "            except ValueError:\n",
    "                continue\n",
    "        numbers.append(number)\n",
    "    \n",
    "    return numbers\n",
    "print(extract_numbers(\"abd 123 1.2 test 13.2 -1\"))"
   ]
  },
  {
   "cell_type": "code",
   "execution_count": 53,
   "id": "62cfee05",
   "metadata": {},
   "outputs": [],
   "source": [
    "# rows and Columns \n",
    "import numpy as np\n",
    "a = np.random.randint(0, 10, (4,4))"
   ]
  },
  {
   "cell_type": "code",
   "execution_count": 61,
   "id": "f5092d6f",
   "metadata": {},
   "outputs": [
    {
     "name": "stdout",
     "output_type": "stream",
     "text": [
      "[[2 3 0 6]\n",
      " [9 1 0 7]\n",
      " [0 3 4 7]\n",
      " [2 3 0 8]]\n"
     ]
    }
   ],
   "source": [
    "print(a)"
   ]
  },
  {
   "cell_type": "code",
   "execution_count": 62,
   "id": "c9362dfc",
   "metadata": {},
   "outputs": [
    {
     "name": "stdout",
     "output_type": "stream",
     "text": [
      "[[2 9 0 2]\n",
      " [3 1 3 3]\n",
      " [0 0 4 0]\n",
      " [6 7 7 8]]\n"
     ]
    }
   ],
   "source": [
    "print(a.T)"
   ]
  },
  {
   "cell_type": "code",
   "execution_count": 64,
   "id": "bc7167fc",
   "metadata": {},
   "outputs": [
    {
     "name": "stdout",
     "output_type": "stream",
     "text": [
      "[[2 9 0 2]\n",
      " [3 1 3 3]\n",
      " [0 0 4 0]\n",
      " [6 7 7 8]]\n"
     ]
    }
   ],
   "source": [
    "t_arr = a.T\n",
    "print(t_arr)\n"
   ]
  },
  {
   "cell_type": "code",
   "execution_count": 78,
   "id": "c5f6abce",
   "metadata": {},
   "outputs": [
    {
     "name": "stdout",
     "output_type": "stream",
     "text": [
      "[2 3 0 6]\n",
      "[9 1 0 7]\n",
      "[0 3 4 7]\n",
      "[2 3 0 8]\n"
     ]
    }
   ],
   "source": [
    "def get_rows(arr):\n",
    "    return [arr[i] for i in range(arr.shape[0])]\n",
    "rows = get_rows(a)\n",
    "for row in rows:\n",
    "    print(row)"
   ]
  },
  {
   "cell_type": "code",
   "execution_count": 68,
   "id": "3a4b321b",
   "metadata": {},
   "outputs": [
    {
     "name": "stdout",
     "output_type": "stream",
     "text": [
      "[2 9 0 2]\n",
      "[3 1 3 3]\n",
      "[0 0 4 0]\n",
      "[6 7 7 8]\n"
     ]
    }
   ],
   "source": [
    "def get_col(arr):\n",
    "    return [arr[:, j] for j in range(arr.shape[1])]\n",
    "cols = get_col(a)\n",
    "for col in cols:\n",
    "    print(col)"
   ]
  },
  {
   "cell_type": "code",
   "execution_count": 79,
   "id": "b7aec5d5",
   "metadata": {},
   "outputs": [
    {
     "data": {
      "text/plain": [
       "4"
      ]
     },
     "execution_count": 79,
     "metadata": {},
     "output_type": "execute_result"
    }
   ],
   "source": [
    "a.shape[0]"
   ]
  },
  {
   "cell_type": "code",
   "execution_count": 93,
   "id": "749e1f26",
   "metadata": {},
   "outputs": [
    {
     "name": "stdout",
     "output_type": "stream",
     "text": [
      "[[2 3 0 6]\n",
      " [9 1 0 7]\n",
      " [0 3 4 7]\n",
      " [2 3 0 8]]\n"
     ]
    }
   ],
   "source": [
    "arr = a.reshape(4,4)\n",
    "print(arr)"
   ]
  },
  {
   "cell_type": "code",
   "execution_count": 94,
   "id": "e26e3cae",
   "metadata": {},
   "outputs": [
    {
     "name": "stdout",
     "output_type": "stream",
     "text": [
      "Row vectors:\n",
      "[[5 0 3]]\n",
      "[[3 7 9]]\n",
      "\n",
      "Column vectors:\n",
      "[[5]\n",
      " [3]]\n",
      "[[0]\n",
      " [7]]\n",
      "[[3]\n",
      " [9]]\n"
     ]
    }
   ],
   "source": [
    "def get_row_vectors(array):\n",
    "    return [row.reshape(1, -1) for row in array]\n",
    "\n",
    "def get_column_vectors(array):\n",
    "    return [array[:, j].reshape(-1, 1) for j in range(array.shape[1])]\n",
    "a = np.array([[5, 0, 3],\n",
    "              [3, 7, 9]])\n",
    "\n",
    "row_vectors = get_row_vectors(a)\n",
    "print(\"Row vectors:\")\n",
    "for vec in row_vectors:\n",
    "    print(vec)\n",
    "\n",
    "column_vectors = get_column_vectors(a)\n",
    "print(\"\\nColumn vectors:\")\n",
    "for vec in column_vectors:\n",
    "    print(vec)"
   ]
  },
  {
   "cell_type": "code",
   "execution_count": 153,
   "id": "c063af04",
   "metadata": {},
   "outputs": [
    {
     "name": "stdout",
     "output_type": "stream",
     "text": [
      "[[0 0 0 0 1 0 0 0 0]\n",
      " [0 0 0 1 0 1 0 0 0]\n",
      " [0 0 1 0 0 0 1 0 0]\n",
      " [0 1 0 0 0 0 0 1 0]\n",
      " [1 0 0 0 0 0 0 0 1]\n",
      " [0 1 0 0 0 0 0 1 0]\n",
      " [0 0 1 0 0 0 1 0 0]\n",
      " [0 0 0 1 0 1 0 0 0]\n",
      " [0 0 0 0 1 0 0 0 0]]\n",
      "[[1]]\n"
     ]
    }
   ],
   "source": [
    "def diamond(n):\n",
    "    size = 2 * n - 1\n",
    "    # Initialize a zero matrix of the correct size\n",
    "    mat = np.zeros((size, size), dtype=int)\n",
    "    \n",
    "    # Create the diagonal pattern\n",
    "    upper_diag = np.eye(size, k=n-1, dtype=int)\n",
    "    lower_diag = np.eye(size, k=-(n-1), dtype=int)\n",
    "    \n",
    "    # Combine diagonals to form the diamond shape\n",
    "    mat = upper_diag + lower_diag + upper_diag[::-1] + lower_diag[::-1]\n",
    "    mat[mat != 0] = 1\n",
    "    return mat\n",
    "\n",
    "print(diamond(5))\n",
    "print(diamond(1))\n"
   ]
  },
  {
   "cell_type": "markdown",
   "id": "6de7969f",
   "metadata": {},
   "source": []
  },
  {
   "cell_type": "code",
   "execution_count": 160,
   "id": "bb23f17a",
   "metadata": {},
   "outputs": [
    {
     "name": "stdout",
     "output_type": "stream",
     "text": [
      "[ 5.          2.23606798 10.          6.40312424  3.60555128]\n"
     ]
    }
   ],
   "source": [
    "def vector_lengths(arr):\n",
    "    squared_sums = np.sum(arr**2, axis=1)\n",
    "    lengths = np.sqrt(squared_sums)\n",
    "    return lengths\n",
    "\n",
    "arr = np.array([[3, 4], [1, 2], [6, 8], [4,5], [2,3]])\n",
    "print(vector_lengths(arr))"
   ]
  },
  {
   "cell_type": "markdown",
   "id": "24e728b8",
   "metadata": {},
   "source": []
  },
  {
   "cell_type": "code",
   "execution_count": 161,
   "id": "b1c47909",
   "metadata": {},
   "outputs": [
    {
     "name": "stdout",
     "output_type": "stream",
     "text": [
      "[45. 90. 45.]\n"
     ]
    }
   ],
   "source": [
    "def vector_angles(X, Y):\n",
    "    dot_product = np.sum(X * Y, axis=1)\n",
    "    \n",
    "    norms_X = np.sqrt(np.sum(X**2, axis=1))\n",
    "    norms_Y = np.sqrt(np.sum(Y**2, axis=1))\n",
    "    \n",
    "    cos_theta = dot_product / (norms_X * norms_Y)\n",
    "    \n",
    "    cos_theta = np.clip(cos_theta, -1.0, 1.0)\n",
    "    \n",
    "    angles_radians = np.arccos(cos_theta)\n",
    "    angles_degrees = np.degrees(angles_radians)\n",
    "    \n",
    "    return angles_degrees\n",
    "\n",
    "X = np.array([[1, 0], [0, 1], [1, 1]])\n",
    "Y = np.array([[1, 1], [1, 0], [0, 1]])\n",
    "print(vector_angles(X, Y))"
   ]
  },
  {
   "cell_type": "code",
   "execution_count": 190,
   "id": "95545ddb",
   "metadata": {},
   "outputs": [
    {
     "name": "stdout",
     "output_type": "stream",
     "text": [
      "[[ 0  0  0  0  0  0  0  0  0  0]\n",
      " [ 0  1  2  3  4  5  6  7  8  9]\n",
      " [ 0  2  4  6  8 10 12 14 16 18]\n",
      " [ 0  3  6  9 12 15 18 21 24 27]\n",
      " [ 0  4  8 12 16 20 24 28 32 36]\n",
      " [ 0  5 10 15 20 25 30 35 40 45]\n",
      " [ 0  6 12 18 24 30 36 42 48 54]\n",
      " [ 0  7 14 21 28 35 42 49 56 63]\n",
      " [ 0  8 16 24 32 40 48 56 64 72]\n",
      " [ 0  9 18 27 36 45 54 63 72 81]]\n"
     ]
    }
   ],
   "source": [
    "#multiplication table\n",
    "def no_loop_table(n): \n",
    "    a = np.arange(n)\n",
    "    b = np.arange(n).reshape((n,1))\n",
    "    c= a*b\n",
    "    print(c)\n",
    "no_loop_table(10)"
   ]
  },
  {
   "cell_type": "code",
   "execution_count": null,
   "id": "65468b46",
   "metadata": {},
   "outputs": [],
   "source": []
  }
 ],
 "metadata": {
  "kernelspec": {
   "display_name": "Python 3 (ipykernel)",
   "language": "python",
   "name": "python3"
  },
  "language_info": {
   "codemirror_mode": {
    "name": "ipython",
    "version": 3
   },
   "file_extension": ".py",
   "mimetype": "text/x-python",
   "name": "python",
   "nbconvert_exporter": "python",
   "pygments_lexer": "ipython3",
   "version": "3.11.5"
  }
 },
 "nbformat": 4,
 "nbformat_minor": 5
}
