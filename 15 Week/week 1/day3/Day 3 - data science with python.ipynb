{
 "cells": [
  {
   "cell_type": "code",
   "execution_count": 3,
   "id": "763f840d",
   "metadata": {},
   "outputs": [
    {
     "name": "stdout",
     "output_type": "stream",
     "text": [
      "What country are you from?india\n",
      "I have heard that india  is a beautiful country\n"
     ]
    }
   ],
   "source": [
    "#Compliment\n",
    "country = input(\"What country are you from?\")\n",
    "print(\"I have heard that\", country, \" is a beautiful country\")"
   ]
  },
  {
   "cell_type": "code",
   "execution_count": 8,
   "id": "9aa40e51",
   "metadata": {},
   "outputs": [
    {
     "name": "stdout",
     "output_type": "stream",
     "text": [
      "4 mulitplied by  0  is  0\n",
      "4 mulitplied by  1  is  4\n",
      "4 mulitplied by  2  is  8\n",
      "4 mulitplied by  3  is  12\n",
      "4 mulitplied by  4  is  16\n",
      "4 mulitplied by  5  is  20\n",
      "4 mulitplied by  6  is  24\n",
      "4 mulitplied by  7  is  28\n",
      "4 mulitplied by  8  is  32\n",
      "4 mulitplied by  9  is  36\n",
      "4 mulitplied by  10  is  40\n"
     ]
    }
   ],
   "source": [
    "# mulitplication\n",
    "for i in range(11):\n",
    "    print(\"4 mulitplied by \",i, \" is \",4*i);"
   ]
  },
  {
   "cell_type": "code",
   "execution_count": 25,
   "id": "e4b39592",
   "metadata": {},
   "outputs": [
    {
     "name": "stdout",
     "output_type": "stream",
     "text": [
      "\n",
      "   1    2    3    4    5    6    7    8    9   10 \n",
      "   2    4    6    8   10   12   14   16   18   20 \n",
      "   3    6    9   12   15   18   21   24   27   30 \n",
      "   4    8   12   16   20   24   28   32   36   40 \n",
      "   5   10   15   20   25   30   35   40   45   50 \n",
      "   6   12   18   24   30   36   42   48   54   60 \n",
      "   7   14   21   28   35   42   49   56   63   70 \n",
      "   8   16   24   32   40   48   56   64   72   80 \n",
      "   9   18   27   36   45   54   63   72   81   90 \n",
      "  10   20   30   40   50   60   70   80   90  100 "
     ]
    }
   ],
   "source": [
    "# multiplication table\n",
    "for i in range(1,11):\n",
    "    print(\"\")\n",
    "    for j in range(1,11):\n",
    "        num = '{:4d}'.format(i*j)\n",
    "        print(num, end=\" \")"
   ]
  },
  {
   "cell_type": "code",
   "execution_count": 24,
   "id": "f846a449",
   "metadata": {},
   "outputs": [
    {
     "name": "stdout",
     "output_type": "stream",
     "text": [
      "(1, 4)\n",
      "(2, 3)\n",
      "(3, 2)\n",
      "(4, 1)\n"
     ]
    }
   ],
   "source": [
    "#two dice\n",
    "for i in range (1,7):\n",
    "    for j in range (1,7):\n",
    "        if (i+j) == 5:\n",
    "            print(f\"({i}, {j})\")"
   ]
  },
  {
   "cell_type": "code",
   "execution_count": 27,
   "id": "b9f0f822",
   "metadata": {},
   "outputs": [
    {
     "name": "stdout",
     "output_type": "stream",
     "text": [
      "triple(1)==3 square(1)==1\n",
      "triple(2)==6 square(2)==4\n"
     ]
    }
   ],
   "source": [
    "#triple square\n",
    "def triple(n):\n",
    "    return n*3\n",
    "\n",
    "def square(n):\n",
    "    return n*n\n",
    "\n",
    "for i in range(1, 10):\n",
    "    if triple(i)>square(i):\n",
    "        print(f\"triple({i})=={triple(i)} square({i})=={square(i)}\")"
   ]
  },
  {
   "cell_type": "code",
   "execution_count": 44,
   "id": "8f1e607e",
   "metadata": {},
   "outputs": [
    {
     "name": "stdout",
     "output_type": "stream",
     "text": [
      "Choose a shape (triangle, rectangle, circle):triangle\n",
      "Give base of the triangle:2\n",
      "Give height of the triangle:3\n",
      "The area is 3.0\n",
      "Choose a shape (triangle, rectangle, circle):circle\n",
      "Give radius of the circle:3\n",
      "The area is 18.84955592153876\n",
      "Choose a shape (triangle, rectangle, circle):rectangle\n",
      "Give base of the rectangle:2\n",
      "Give height of the rectangle:3\n",
      "The area is 6\n",
      "Choose a shape (triangle, rectangle, circle):sadf\n",
      "wrong input\n",
      "Choose a shape (triangle, rectangle, circle):\n"
     ]
    }
   ],
   "source": [
    "# areas fo shapes\n",
    "import math\n",
    "def area_triangle(b, h):\n",
    "    return int(b*h)/2;\n",
    "def area_rectangle(l, w):\n",
    "    return l*w\n",
    "def area_circle(r):\n",
    "    return 2*math.pi*r\n",
    "\n",
    "while True:\n",
    "    ask = (input(\"Choose a shape (triangle, rectangle, circle):\"))\n",
    "    if ask == \"triangle\":\n",
    "        base = int(input(\"Give base of the triangle:\"))\n",
    "        height = int(input(\"Give height of the triangle:\"))\n",
    "        print(f\"The area is {area_triangle(base, height)}\")\n",
    "    elif ask == \"rectangle\":\n",
    "        base = int(input(\"Give base of the rectangle:\"))\n",
    "        height = int(input(\"Give height of the rectangle:\"))\n",
    "        print(f\"The area is {area_rectangle(base,height)}\")\n",
    "    elif ask == \"circle\":\n",
    "        rad = int(input(\"Give radius of the circle:\"))\n",
    "        print(f\"The area is {area_circle(rad)}\")       \n",
    "    elif ask == \"\":\n",
    "        break;\n",
    "    else:\n",
    "        print(\"wrong input\")\n"
   ]
  },
  {
   "cell_type": "code",
   "execution_count": 49,
   "id": "9e49bbfe",
   "metadata": {},
   "outputs": [
    {
     "name": "stdout",
     "output_type": "stream",
     "text": [
      "[2.0, 1.0]\n",
      "[-1.0, -1.0]\n"
     ]
    }
   ],
   "source": [
    "#solve Quadratic\n",
    "\n",
    "def quad(a, b, c):\n",
    "    d = math.sqrt(b*b -4*a*c)\n",
    "    return [(-b+d)/2*a, (-b-d)/2*a]\n",
    "\n",
    "print(quad(1, -3, 2))\n",
    "print(quad(1,2,1))"
   ]
  },
  {
   "cell_type": "code",
   "execution_count": 98,
   "id": "a66367cc",
   "metadata": {},
   "outputs": [
    {
     "name": "stdout",
     "output_type": "stream",
     "text": [
      "[1, 1, 2, 3, 3, 4, 4, 5]\n"
     ]
    }
   ],
   "source": [
    "# merge \n",
    "l1 = [1,2,3,4]\n",
    "l2 = [1,3,4,5]\n",
    "def merge(l1,l2):\n",
    "    l3 = []\n",
    "    j=0\n",
    "    k=0\n",
    "    while j < len(l1) and k < len(l2):\n",
    "        if l1[j] < l2[k]:\n",
    "            l3.append(l1[j])\n",
    "            j = j+1;\n",
    "        else:\n",
    "            l3.append(l2[k])\n",
    "            k = k +1 \n",
    "    while j < len(l1):\n",
    "        l3.append(l1[j])\n",
    "        j = j+1\n",
    "    \n",
    "    while k < len(l2):\n",
    "        l3.append(l2[k])\n",
    "        k = k+1\n",
    "    return l3\n",
    "print(merge(l1, l2))\n"
   ]
  },
  {
   "cell_type": "code",
   "execution_count": 103,
   "id": "32d663e7",
   "metadata": {},
   "outputs": [
    {
     "data": {
      "text/plain": [
       "[1, (3, 6)]"
      ]
     },
     "execution_count": 103,
     "metadata": {},
     "output_type": "execute_result"
    }
   ],
   "source": [
    "def detect_range(l1):\n",
    "    result = []\n",
    "    start = l1[0]\n",
    "    end = start\n",
    "    for i in range(1, len(l1)):\n",
    "        if l1[i] == end + 1:\n",
    "            end = l1[i]\n",
    "        else:\n",
    "            if start == end:\n",
    "                result.append(start)\n",
    "            else:\n",
    "                result.append((start, end + 1))\n",
    "            start = l1[i]\n",
    "            end = start\n",
    "    if start == end:\n",
    "        result.append(start)\n",
    "    else:\n",
    "        result.append((start, end + 1))\n",
    "\n",
    "    return result\n",
    "\n",
    "\n",
    "l1 = [1,3,4,5]\n",
    "detect_range(l1)"
   ]
  },
  {
   "cell_type": "code",
   "execution_count": 108,
   "id": "3f90ee15",
   "metadata": {},
   "outputs": [
    {
     "name": "stdout",
     "output_type": "stream",
     "text": [
      "[1, '2', 2, '3', 3, '4']\n"
     ]
    }
   ],
   "source": [
    "# interleave \n",
    "\n",
    "def interleave(*lists):\n",
    "    l1 = []\n",
    "    for group in zip(*lists):\n",
    "        l1.extend(group)\n",
    "    return l1\n",
    "\n",
    "print(interleave([1,2,3], ['2','3','4']))\n"
   ]
  },
  {
   "cell_type": "code",
   "execution_count": 111,
   "id": "1910700a",
   "metadata": {},
   "outputs": [
    {
     "name": "stdout",
     "output_type": "stream",
     "text": [
      "{'check': 4, 'look': 3, 'try': 3, 'pop': 2}\n"
     ]
    }
   ],
   "source": [
    "#distinct charcters \n",
    "def distinct_characters(strings):\n",
    "    result = {}\n",
    "    for s in strings:\n",
    "        distinct_chars = set(s)\n",
    "        result[s] = len(distinct_chars)\n",
    "    \n",
    "    return result\n",
    "print(distinct_characters([\"check\", \"look\", \"try\", \"pop\"]))"
   ]
  },
  {
   "cell_type": "code",
   "execution_count": 113,
   "id": "29a943dc",
   "metadata": {},
   "outputs": [
    {
     "name": "stdout",
     "output_type": "stream",
     "text": [
      "{'liikuttaa': ['move'], 'piilottaa': ['hide'], 'salata': ['hide'], 'kuusi': ['six', 'fir']}\n"
     ]
    }
   ],
   "source": [
    "# rev Dict\n",
    "def reverse_dictionary(d):\n",
    "    reversed_dict = {}\n",
    "    for english_word, finnish_words in d.items():\n",
    "        for finnish_word in finnish_words:\n",
    "            if finnish_word not in reversed_dict:\n",
    "                reversed_dict[finnish_word] = []\n",
    "            reversed_dict[finnish_word].append(english_word)    \n",
    "    return reversed_dict\n",
    "d = {\n",
    "    'move': ['liikuttaa'],\n",
    "    'hide': ['piilottaa', 'salata'],\n",
    "    'six': ['kuusi'],\n",
    "    'fir': ['kuusi']\n",
    "}\n",
    "\n",
    "print(reverse_dictionary(d))"
   ]
  },
  {
   "cell_type": "code",
   "execution_count": 115,
   "id": "44b4294b",
   "metadata": {},
   "outputs": [
    {
     "name": "stdout",
     "output_type": "stream",
     "text": [
      "[0, 1, 3]\n"
     ]
    }
   ],
   "source": [
    "#matching string index\n",
    "def find_matching(strings, search_string):\n",
    "    matching_indices = []\n",
    "    for index, string in enumerate(strings):\n",
    "        if search_string in string:\n",
    "            matching_indices.append(index)\n",
    "    \n",
    "    return matching_indices\n",
    "print(find_matching([\"sensitive\", \"engine\", \"rubbish\", \"comment\"], \"en\"))"
   ]
  },
  {
   "cell_type": "code",
   "execution_count": 117,
   "id": "aceb94ef",
   "metadata": {},
   "outputs": [
    {
     "name": "stdout",
     "output_type": "stream",
     "text": [
      "(1, 4)\n",
      "(2, 3)\n",
      "(3, 2)\n",
      "(4, 1)\n"
     ]
    }
   ],
   "source": [
    "#dice pair redo\n",
    "pairs = [(i, j) for i in range(1, 7) for j in range(1, 7) if i + j == 5]\n",
    "for pair in pairs:\n",
    "    print(pair)"
   ]
  },
  {
   "cell_type": "code",
   "execution_count": 118,
   "id": "e1a89767",
   "metadata": {},
   "outputs": [
    {
     "name": "stdout",
     "output_type": "stream",
     "text": [
      "[2, 30, -3]\n"
     ]
    }
   ],
   "source": [
    "#use of map, zip and split\n",
    "def transform(str1, str2):\n",
    "    list1 = list(map(int, str1.split()))\n",
    "    list2 = list(map(int, str2.split()))\n",
    "    result = [a * b for a, b in zip(list1, list2)]    \n",
    "    return result\n",
    "print(transform(\"1 5 3\", \"2 6 -1\"))"
   ]
  },
  {
   "cell_type": "code",
   "execution_count": 122,
   "id": "6b85205f",
   "metadata": {},
   "outputs": [
    {
     "name": "stdout",
     "output_type": "stream",
     "text": [
      "[2, 1]\n"
     ]
    }
   ],
   "source": [
    "# positive list using filter\n",
    "def is_positive(num):\n",
    "    return num > 0\n",
    "    \n",
    "numbers = [2, -2, 0, 1, -7]\n",
    "print(list(filter(is_positive, numbers)))"
   ]
  },
  {
   "cell_type": "code",
   "execution_count": 123,
   "id": "1c4770dd",
   "metadata": {},
   "outputs": [],
   "source": [
    "from functools import reduce "
   ]
  },
  {
   "cell_type": "code",
   "execution_count": 124,
   "id": "3b6343a6",
   "metadata": {},
   "outputs": [
    {
     "name": "stdout",
     "output_type": "stream",
     "text": [
      "['EU', 'GDPR', 'IBM', 'IBM', 'EEA', 'EEA', 'IBM', 'PO', 'PO6', '3AU']\n"
     ]
    }
   ],
   "source": [
    "import string\n",
    "\n",
    "def acronyms(text):\n",
    "    translator = str.maketrans('', '', string.punctuation)\n",
    "    clean_text = text.translate(translator)\n",
    "    words = clean_text.split()\n",
    "    acronyms_list = [word for word in words if len(word) >= 2 and word.isupper()]\n",
    "    return acronyms_list\n",
    "\n",
    "print(acronyms(\"\"\"For the purposes of the EU General Data Protection Regulation (GDPR), the controller\n",
    "of your personal information is International Business Machines Corporation (IBM Corp.), 1 New Orchard \n",
    "Road, Armonk, New York, United States, unless indicated otherwise. Where IBM Corp. or a subsidiary \n",
    "it controls (not established in the European Economic Area (EEA)) is required to appoint a \n",
    "legal representative in the EEA, the representative for all such cases is IBM United Kingdom Limited, \n",
    "PO Box 41, North Harbour, Portsmouth, Hampshire, United Kingdom PO6 3AU.\"\"\"))"
   ]
  },
  {
   "cell_type": "code",
   "execution_count": 125,
   "id": "c2c732e9",
   "metadata": {},
   "outputs": [
    {
     "name": "stdout",
     "output_type": "stream",
     "text": [
      "1 + 5 + 7 = 13\n",
      "0 = 0\n"
     ]
    }
   ],
   "source": [
    "def sum_equation(numbers):\n",
    "    if not numbers:\n",
    "        return \"0 = 0\"\n",
    "    total_sum = sum(numbers)\n",
    "    equation = \" + \".join(map(str, numbers)) + \" = \" + str(total_sum)\n",
    "    \n",
    "    return equation\n",
    "print(sum_equation([1, 5, 7])) \n",
    "print(sum_equation([]))    "
   ]
  },
  {
   "cell_type": "code",
   "execution_count": null,
   "id": "72ce99c9",
   "metadata": {},
   "outputs": [],
   "source": []
  }
 ],
 "metadata": {
  "kernelspec": {
   "display_name": "Python 3 (ipykernel)",
   "language": "python",
   "name": "python3"
  },
  "language_info": {
   "codemirror_mode": {
    "name": "ipython",
    "version": 3
   },
   "file_extension": ".py",
   "mimetype": "text/x-python",
   "name": "python",
   "nbconvert_exporter": "python",
   "pygments_lexer": "ipython3",
   "version": "3.11.5"
  }
 },
 "nbformat": 4,
 "nbformat_minor": 5
}
